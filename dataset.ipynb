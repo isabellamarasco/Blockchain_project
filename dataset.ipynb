{
 "cells": [
  {
   "cell_type": "code",
   "execution_count": 1,
   "metadata": {},
   "outputs": [],
   "source": [
    "#import\n",
    "import pandas as pd\n",
    "import matplotlib.pyplot as plt\n",
    "import numpy as np\n",
    "import seaborn as sns\n",
    "import os"
   ]
  },
  {
   "cell_type": "code",
   "execution_count": 2,
   "metadata": {},
   "outputs": [
    {
     "name": "stderr",
     "output_type": "stream",
     "text": [
      "/var/folders/w2/jn05b8cd0kj32r1y2sywf38w0000gn/T/ipykernel_4990/1142251017.py:8: DtypeWarning: Columns (31,86) have mixed types. Specify dtype option on import or set low_memory=False.\n",
      "  file = pd.read_csv(filename)\n",
      "/var/folders/w2/jn05b8cd0kj32r1y2sywf38w0000gn/T/ipykernel_4990/1142251017.py:8: DtypeWarning: Columns (31,86) have mixed types. Specify dtype option on import or set low_memory=False.\n",
      "  file = pd.read_csv(filename)\n",
      "/var/folders/w2/jn05b8cd0kj32r1y2sywf38w0000gn/T/ipykernel_4990/1142251017.py:8: DtypeWarning: Columns (31,73,86) have mixed types. Specify dtype option on import or set low_memory=False.\n",
      "  file = pd.read_csv(filename)\n"
     ]
    },
    {
     "name": "stdout",
     "output_type": "stream",
     "text": [
      "File non trovato: dataset/2021-04.csv\n"
     ]
    },
    {
     "name": "stderr",
     "output_type": "stream",
     "text": [
      "/var/folders/w2/jn05b8cd0kj32r1y2sywf38w0000gn/T/ipykernel_4990/1142251017.py:8: DtypeWarning: Columns (31,73,75,86) have mixed types. Specify dtype option on import or set low_memory=False.\n",
      "  file = pd.read_csv(filename)\n",
      "/var/folders/w2/jn05b8cd0kj32r1y2sywf38w0000gn/T/ipykernel_4990/1142251017.py:8: DtypeWarning: Columns (31,73,86) have mixed types. Specify dtype option on import or set low_memory=False.\n",
      "  file = pd.read_csv(filename)\n",
      "/var/folders/w2/jn05b8cd0kj32r1y2sywf38w0000gn/T/ipykernel_4990/1142251017.py:8: DtypeWarning: Columns (31,86) have mixed types. Specify dtype option on import or set low_memory=False.\n",
      "  file = pd.read_csv(filename)\n",
      "/var/folders/w2/jn05b8cd0kj32r1y2sywf38w0000gn/T/ipykernel_4990/1142251017.py:8: DtypeWarning: Columns (86) have mixed types. Specify dtype option on import or set low_memory=False.\n",
      "  file = pd.read_csv(filename)\n",
      "/var/folders/w2/jn05b8cd0kj32r1y2sywf38w0000gn/T/ipykernel_4990/1142251017.py:8: DtypeWarning: Columns (31,86) have mixed types. Specify dtype option on import or set low_memory=False.\n",
      "  file = pd.read_csv(filename)\n",
      "/var/folders/w2/jn05b8cd0kj32r1y2sywf38w0000gn/T/ipykernel_4990/1142251017.py:8: DtypeWarning: Columns (31,73,86) have mixed types. Specify dtype option on import or set low_memory=False.\n",
      "  file = pd.read_csv(filename)\n",
      "/var/folders/w2/jn05b8cd0kj32r1y2sywf38w0000gn/T/ipykernel_4990/1142251017.py:8: DtypeWarning: Columns (31,33,75,86,87,88) have mixed types. Specify dtype option on import or set low_memory=False.\n",
      "  file = pd.read_csv(filename)\n",
      "/var/folders/w2/jn05b8cd0kj32r1y2sywf38w0000gn/T/ipykernel_4990/1142251017.py:8: DtypeWarning: Columns (31,75,86) have mixed types. Specify dtype option on import or set low_memory=False.\n",
      "  file = pd.read_csv(filename)\n",
      "/var/folders/w2/jn05b8cd0kj32r1y2sywf38w0000gn/T/ipykernel_4990/1142251017.py:8: DtypeWarning: Columns (33,75,87,88) have mixed types. Specify dtype option on import or set low_memory=False.\n",
      "  file = pd.read_csv(filename)\n",
      "/var/folders/w2/jn05b8cd0kj32r1y2sywf38w0000gn/T/ipykernel_4990/1142251017.py:8: DtypeWarning: Columns (31,33,73,75,86,87,88) have mixed types. Specify dtype option on import or set low_memory=False.\n",
      "  file = pd.read_csv(filename)\n",
      "/var/folders/w2/jn05b8cd0kj32r1y2sywf38w0000gn/T/ipykernel_4990/1142251017.py:8: DtypeWarning: Columns (31,33,73,75,86,87,88) have mixed types. Specify dtype option on import or set low_memory=False.\n",
      "  file = pd.read_csv(filename)\n",
      "/var/folders/w2/jn05b8cd0kj32r1y2sywf38w0000gn/T/ipykernel_4990/1142251017.py:8: DtypeWarning: Columns (6,8,9,33,75,87,88) have mixed types. Specify dtype option on import or set low_memory=False.\n",
      "  file = pd.read_csv(filename)\n",
      "/var/folders/w2/jn05b8cd0kj32r1y2sywf38w0000gn/T/ipykernel_4990/1142251017.py:8: DtypeWarning: Columns (33,73,87,88) have mixed types. Specify dtype option on import or set low_memory=False.\n",
      "  file = pd.read_csv(filename)\n",
      "/var/folders/w2/jn05b8cd0kj32r1y2sywf38w0000gn/T/ipykernel_4990/1142251017.py:8: DtypeWarning: Columns (31,33,73,75,86,87,88) have mixed types. Specify dtype option on import or set low_memory=False.\n",
      "  file = pd.read_csv(filename)\n",
      "/var/folders/w2/jn05b8cd0kj32r1y2sywf38w0000gn/T/ipykernel_4990/1142251017.py:8: DtypeWarning: Columns (6,8,9,33,75,87,88) have mixed types. Specify dtype option on import or set low_memory=False.\n",
      "  file = pd.read_csv(filename)\n",
      "/var/folders/w2/jn05b8cd0kj32r1y2sywf38w0000gn/T/ipykernel_4990/1142251017.py:8: DtypeWarning: Columns (31,86) have mixed types. Specify dtype option on import or set low_memory=False.\n",
      "  file = pd.read_csv(filename)\n",
      "/var/folders/w2/jn05b8cd0kj32r1y2sywf38w0000gn/T/ipykernel_4990/1142251017.py:8: DtypeWarning: Columns (31,73,86) have mixed types. Specify dtype option on import or set low_memory=False.\n",
      "  file = pd.read_csv(filename)\n",
      "/var/folders/w2/jn05b8cd0kj32r1y2sywf38w0000gn/T/ipykernel_4990/1142251017.py:8: DtypeWarning: Columns (31,73,86) have mixed types. Specify dtype option on import or set low_memory=False.\n",
      "  file = pd.read_csv(filename)\n",
      "/var/folders/w2/jn05b8cd0kj32r1y2sywf38w0000gn/T/ipykernel_4990/1142251017.py:8: DtypeWarning: Columns (31,33,75,86,87,88) have mixed types. Specify dtype option on import or set low_memory=False.\n",
      "  file = pd.read_csv(filename)\n"
     ]
    },
    {
     "name": "stdout",
     "output_type": "stream",
     "text": [
      "File non trovato: dataset/2023-02.csv\n",
      "File non trovato: dataset/2023-03.csv\n",
      "File non trovato: dataset/2023-04.csv\n",
      "File non trovato: dataset/2023-05.csv\n",
      "File non trovato: dataset/2023-06.csv\n",
      "File non trovato: dataset/2023-07.csv\n",
      "File non trovato: dataset/2023-08.csv\n",
      "File non trovato: dataset/2023-09.csv\n",
      "File non trovato: dataset/2023-10.csv\n",
      "File non trovato: dataset/2023-11.csv\n",
      "File non trovato: dataset/2023-12.csv\n"
     ]
    }
   ],
   "source": [
    "file_list = []\n",
    "\n",
    "for year in range(2021, 2024):\n",
    "    for month in range(1, 13):\n",
    "        filename = f\"dataset/{year}-{str(month).zfill(2)}.csv\"\n",
    "        if os.path.isfile(filename):\n",
    "            try:\n",
    "                file = pd.read_csv(filename)\n",
    "                file_list.append(file)\n",
    "            except FileNotFoundError:\n",
    "                print(f\"File non trovato: {filename}\")\n",
    "        else:\n",
    "            print(f\"File non trovato: {filename}\")\n",
    "\n",
    "file = pd.concat(file_list, ignore_index=True)\n",
    "#print(file.shape)"
   ]
  },
  {
   "cell_type": "code",
   "execution_count": 4,
   "metadata": {},
   "outputs": [],
   "source": [
    "#drop columns\n",
    "file = file.drop(['attachments.media', 'attachments.media_keys', 'attachments.poll.duration_minutes','attachments.poll.end_datetime','attachments.poll.id','attachments.poll.options', 'attachments.poll.voting_status', 'attachments.poll_ids', 'author.created_at', 'author.description', 'author.entities.description.cashtags','author.entities.description.hashtags', 'author.entities.description.urls','author.entities.url.urls','author.entities.description.mentions' , 'author.pinned_tweet_id','author.profile_image_url','author.protected', 'author.public_metrics.following_count', 'author.public_metrics.tweet_count','author.url', 'author.withheld.scope','author.withheld.copyright','author.withheld.country_codes', 'context_annotations', 'entities.cashtags','entities.hashtags', 'entities.urls', 'in_reply_to_user.description','in_reply_to_user.entities.description.cashtags','in_reply_to_user.entities.description.hashtags','in_reply_to_user.entities.description.mentions','in_reply_to_user.entities.description.urls','in_reply_to_user.entities.url.urls', 'in_reply_to_user.pinned_tweet_id','in_reply_to_user.profile_image_url','in_reply_to_user.protected','in_reply_to_user.public_metrics.followers_count','in_reply_to_user.public_metrics.following_count','in_reply_to_user.public_metrics.listed_count','in_reply_to_user.public_metrics.tweet_count','in_reply_to_user.url', 'in_reply_to_user.withheld.scope','in_reply_to_user.withheld.copyright','in_reply_to_user.withheld.country_codes', 'possibly_sensitive', 'reply_settings','source', 'withheld.scope','withheld.copyright','withheld.country_codes', '__twarc.retrieved_at','__twarc.url','__twarc.version', 'edit_history_tweet_ids', 'public_metrics.impression_count','entities.annotations', 'author.location', 'entities.mentions', 'geo.place_id', 'geo.place_type','geo.geo.bbox', 'author_id', 'in_reply_to_user.verified', 'in_reply_to_user.created_at', 'in_reply_to_user.username', 'in_reply_to_user.name', 'in_reply_to_user.location', 'Unnamed: 93', 'author.id', 'author.name', 'author.public_metrics.followers_count', 'author.public_metrics.listed_count', 'author.verified', 'conversation_id', 'geo.coordinates.coordinates', 'geo.coordinates.type' , 'geo.full_name','geo.geo.type','geo.id','geo.name','in_reply_to_user.id', 'lang', 'referenced_tweets','type'], axis=1)"
   ]
  },
  {
   "cell_type": "code",
   "execution_count": 5,
   "metadata": {},
   "outputs": [],
   "source": [
    "#delete duplicates if there are two rows with the same id\n",
    "file = file.drop_duplicates(subset=['id'], keep='first')\n",
    "file = file.reset_index(drop=True)"
   ]
  },
  {
   "cell_type": "code",
   "execution_count": 6,
   "metadata": {},
   "outputs": [],
   "source": [
    "#select the rows with into the text column there are #bitcoin #luna #terra\n",
    "file = file[file['text'].str.contains('#lunaterra|#luna|#terra|#bitcoin|#blockchain|#crypto|#crypto|#cryptocurrency|#criptonews|#terraUSD|#UST|#USTC|#stablecoin|bitcoin|blockchain|crypto|cryptocurrency|stablecoin|terra|terraUSD|luna|UST|USTC', na=False, case=False)]\n",
    "file = file.reset_index(drop=True)\n",
    "\n",
    "file.to_csv('dataset/dataset.csv', index=False)\n",
    "#print(file.columns)\n",
    "#print(file.shape)"
   ]
  }
 ],
 "metadata": {
  "kernelspec": {
   "display_name": "Python 3",
   "language": "python",
   "name": "python3"
  },
  "language_info": {
   "codemirror_mode": {
    "name": "ipython",
    "version": 3
   },
   "file_extension": ".py",
   "mimetype": "text/x-python",
   "name": "python",
   "nbconvert_exporter": "python",
   "pygments_lexer": "ipython3",
   "version": "3.9.16"
  },
  "orig_nbformat": 4
 },
 "nbformat": 4,
 "nbformat_minor": 2
}
