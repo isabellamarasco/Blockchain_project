{
 "cells": [
  {
   "cell_type": "code",
   "execution_count": 1,
   "metadata": {},
   "outputs": [],
   "source": [
    "#import\n",
    "import pandas as pd\n",
    "import matplotlib.pyplot as plt\n",
    "import numpy as np\n",
    "import seaborn as sns\n",
    "\n"
   ]
  },
  {
   "cell_type": "code",
   "execution_count": 2,
   "metadata": {},
   "outputs": [
    {
     "name": "stderr",
     "output_type": "stream",
     "text": [
      "/var/folders/w2/jn05b8cd0kj32r1y2sywf38w0000gn/T/ipykernel_2507/2728032543.py:2: DtypeWarning: Columns (31,86) have mixed types. Specify dtype option on import or set low_memory=False.\n",
      "  file1= pd.read_csv('dataset/2021-01.csv')\n",
      "/var/folders/w2/jn05b8cd0kj32r1y2sywf38w0000gn/T/ipykernel_2507/2728032543.py:3: DtypeWarning: Columns (31,86) have mixed types. Specify dtype option on import or set low_memory=False.\n",
      "  file2= pd.read_csv('dataset/2021-02.csv')\n",
      "/var/folders/w2/jn05b8cd0kj32r1y2sywf38w0000gn/T/ipykernel_2507/2728032543.py:4: DtypeWarning: Columns (31,73,86) have mixed types. Specify dtype option on import or set low_memory=False.\n",
      "  file3= pd.read_csv('dataset/2021-03.csv')\n",
      "/var/folders/w2/jn05b8cd0kj32r1y2sywf38w0000gn/T/ipykernel_2507/2728032543.py:5: DtypeWarning: Columns (31,73,75,86) have mixed types. Specify dtype option on import or set low_memory=False.\n",
      "  file5= pd.read_csv('dataset/2021-05.csv')\n",
      "/var/folders/w2/jn05b8cd0kj32r1y2sywf38w0000gn/T/ipykernel_2507/2728032543.py:6: DtypeWarning: Columns (31,73,86) have mixed types. Specify dtype option on import or set low_memory=False.\n",
      "  file6= pd.read_csv('dataset/2021-06.csv')\n",
      "/var/folders/w2/jn05b8cd0kj32r1y2sywf38w0000gn/T/ipykernel_2507/2728032543.py:7: DtypeWarning: Columns (31,86) have mixed types. Specify dtype option on import or set low_memory=False.\n",
      "  file7= pd.read_csv('dataset/2021-07.csv')\n",
      "/var/folders/w2/jn05b8cd0kj32r1y2sywf38w0000gn/T/ipykernel_2507/2728032543.py:8: DtypeWarning: Columns (86) have mixed types. Specify dtype option on import or set low_memory=False.\n",
      "  file8= pd.read_csv('dataset/2021-08.csv')\n",
      "/var/folders/w2/jn05b8cd0kj32r1y2sywf38w0000gn/T/ipykernel_2507/2728032543.py:9: DtypeWarning: Columns (31,86) have mixed types. Specify dtype option on import or set low_memory=False.\n",
      "  file9= pd.read_csv('dataset/2021-09.csv')\n",
      "/var/folders/w2/jn05b8cd0kj32r1y2sywf38w0000gn/T/ipykernel_2507/2728032543.py:10: DtypeWarning: Columns (31,73,86) have mixed types. Specify dtype option on import or set low_memory=False.\n",
      "  file10= pd.read_csv('dataset/2021-10.csv')\n",
      "/var/folders/w2/jn05b8cd0kj32r1y2sywf38w0000gn/T/ipykernel_2507/2728032543.py:11: DtypeWarning: Columns (31,33,75,86,87,88) have mixed types. Specify dtype option on import or set low_memory=False.\n",
      "  file11= pd.read_csv('dataset/2021-11.csv')\n",
      "/var/folders/w2/jn05b8cd0kj32r1y2sywf38w0000gn/T/ipykernel_2507/2728032543.py:12: DtypeWarning: Columns (31,75,86) have mixed types. Specify dtype option on import or set low_memory=False.\n",
      "  file12= pd.read_csv('dataset/2021-12.csv')\n",
      "/var/folders/w2/jn05b8cd0kj32r1y2sywf38w0000gn/T/ipykernel_2507/2728032543.py:15: DtypeWarning: Columns (33,75,87,88) have mixed types. Specify dtype option on import or set low_memory=False.\n",
      "  file13= pd.read_csv('dataset/2022-01.csv')\n",
      "/var/folders/w2/jn05b8cd0kj32r1y2sywf38w0000gn/T/ipykernel_2507/2728032543.py:16: DtypeWarning: Columns (31,33,73,75,86,87,88) have mixed types. Specify dtype option on import or set low_memory=False.\n",
      "  file14= pd.read_csv('dataset/2022-02.csv')\n",
      "/var/folders/w2/jn05b8cd0kj32r1y2sywf38w0000gn/T/ipykernel_2507/2728032543.py:17: DtypeWarning: Columns (31,33,73,75,86,87,88) have mixed types. Specify dtype option on import or set low_memory=False.\n",
      "  file15= pd.read_csv('dataset/2022-03.csv')\n",
      "/var/folders/w2/jn05b8cd0kj32r1y2sywf38w0000gn/T/ipykernel_2507/2728032543.py:18: DtypeWarning: Columns (6,8,9,33,75,87,88) have mixed types. Specify dtype option on import or set low_memory=False.\n",
      "  file16= pd.read_csv('dataset/2022-04.csv')\n",
      "/var/folders/w2/jn05b8cd0kj32r1y2sywf38w0000gn/T/ipykernel_2507/2728032543.py:19: DtypeWarning: Columns (33,73,87,88) have mixed types. Specify dtype option on import or set low_memory=False.\n",
      "  file17= pd.read_csv('dataset/2022-05.csv')\n",
      "/var/folders/w2/jn05b8cd0kj32r1y2sywf38w0000gn/T/ipykernel_2507/2728032543.py:20: DtypeWarning: Columns (31,33,73,75,86,87,88) have mixed types. Specify dtype option on import or set low_memory=False.\n",
      "  file18= pd.read_csv('dataset/2022-06.csv')\n",
      "/var/folders/w2/jn05b8cd0kj32r1y2sywf38w0000gn/T/ipykernel_2507/2728032543.py:22: DtypeWarning: Columns (6,8,9,33,75,87,88) have mixed types. Specify dtype option on import or set low_memory=False.\n",
      "  file20= pd.read_csv('dataset/2022-08.csv')\n",
      "/var/folders/w2/jn05b8cd0kj32r1y2sywf38w0000gn/T/ipykernel_2507/2728032543.py:24: DtypeWarning: Columns (31,86) have mixed types. Specify dtype option on import or set low_memory=False.\n",
      "  file22= pd.read_csv('dataset/2022-10.csv')\n",
      "/var/folders/w2/jn05b8cd0kj32r1y2sywf38w0000gn/T/ipykernel_2507/2728032543.py:25: DtypeWarning: Columns (31,73,86) have mixed types. Specify dtype option on import or set low_memory=False.\n",
      "  file23= pd.read_csv('dataset/2022-11.csv')\n",
      "/var/folders/w2/jn05b8cd0kj32r1y2sywf38w0000gn/T/ipykernel_2507/2728032543.py:26: DtypeWarning: Columns (31,73,86) have mixed types. Specify dtype option on import or set low_memory=False.\n",
      "  file24= pd.read_csv('dataset/2022-12.csv')\n",
      "/var/folders/w2/jn05b8cd0kj32r1y2sywf38w0000gn/T/ipykernel_2507/2728032543.py:29: DtypeWarning: Columns (31,33,75,86,87,88) have mixed types. Specify dtype option on import or set low_memory=False.\n",
      "  file25= pd.read_csv('dataset/2023-01.csv')\n"
     ]
    }
   ],
   "source": [
    "#open all files 2021-01 to 2021-12\n",
    "file1= pd.read_csv('dataset/2021-01.csv')\n",
    "file2= pd.read_csv('dataset/2021-02.csv')\n",
    "file3= pd.read_csv('dataset/2021-03.csv')\n",
    "file5= pd.read_csv('dataset/2021-05.csv')\n",
    "file6= pd.read_csv('dataset/2021-06.csv')\n",
    "file7= pd.read_csv('dataset/2021-07.csv')\n",
    "file8= pd.read_csv('dataset/2021-08.csv')\n",
    "file9= pd.read_csv('dataset/2021-09.csv')\n",
    "file10= pd.read_csv('dataset/2021-10.csv')\n",
    "file11= pd.read_csv('dataset/2021-11.csv')\n",
    "file12= pd.read_csv('dataset/2021-12.csv')\n",
    "\n",
    "#open all files 2022-01 to 2022-12\n",
    "file13= pd.read_csv('dataset/2022-01.csv')\n",
    "file14= pd.read_csv('dataset/2022-02.csv')\n",
    "file15= pd.read_csv('dataset/2022-03.csv')\n",
    "file16= pd.read_csv('dataset/2022-04.csv')\n",
    "file17= pd.read_csv('dataset/2022-05.csv')\n",
    "file18= pd.read_csv('dataset/2022-06.csv')\n",
    "file19= pd.read_csv('dataset/2022-07.csv')\n",
    "file20= pd.read_csv('dataset/2022-08.csv')\n",
    "file21= pd.read_csv('dataset/2022-09.csv')\n",
    "file22= pd.read_csv('dataset/2022-10.csv')\n",
    "file23= pd.read_csv('dataset/2022-11.csv')\n",
    "file24= pd.read_csv('dataset/2022-12.csv')\n",
    "\n",
    "#open all files 2023-01\n",
    "file25= pd.read_csv('dataset/2023-01.csv')\n",
    "\n",
    "#concate all files\n",
    "file = pd.concat([file1, file2, file3, file5, file6, file7, file8, file9, file10, file11, file12, file13, file14, file15, file16, file17, file18, file19, file20, file21, file22, file23, file24, file25], ignore_index=True)\n"
   ]
  },
  {
   "cell_type": "code",
   "execution_count": 3,
   "metadata": {},
   "outputs": [],
   "source": [
    "#drop columns\n",
    "file = file.drop(['attachments.media', 'attachments.media_keys', 'attachments.poll.duration_minutes','attachments.poll.end_datetime','attachments.poll.id','attachments.poll.options', 'attachments.poll.voting_status', 'attachments.poll_ids', 'author.created_at', 'author.description', 'author.entities.description.cashtags','author.entities.description.hashtags', 'author.entities.description.urls','author.entities.url.urls','author.entities.description.mentions' , 'author.pinned_tweet_id','author.profile_image_url','author.protected', 'author.public_metrics.following_count', 'author.public_metrics.tweet_count','author.url', 'author.withheld.scope','author.withheld.copyright','author.withheld.country_codes', 'context_annotations', 'entities.cashtags','entities.hashtags', 'entities.urls', 'in_reply_to_user.description','in_reply_to_user.entities.description.cashtags','in_reply_to_user.entities.description.hashtags','in_reply_to_user.entities.description.mentions','in_reply_to_user.entities.description.urls','in_reply_to_user.entities.url.urls', 'in_reply_to_user.pinned_tweet_id','in_reply_to_user.profile_image_url','in_reply_to_user.protected','in_reply_to_user.public_metrics.followers_count','in_reply_to_user.public_metrics.following_count','in_reply_to_user.public_metrics.listed_count','in_reply_to_user.public_metrics.tweet_count','in_reply_to_user.url', 'in_reply_to_user.withheld.scope','in_reply_to_user.withheld.copyright','in_reply_to_user.withheld.country_codes', 'possibly_sensitive', 'reply_settings','source', 'withheld.scope','withheld.copyright','withheld.country_codes', '__twarc.retrieved_at','__twarc.url','__twarc.version', 'edit_history_tweet_ids', 'public_metrics.impression_count','entities.annotations', 'author.location', 'entities.mentions', 'geo.place_id', 'geo.place_type','geo.geo.bbox', 'author_id', 'in_reply_to_user_id', 'in_reply_to_user.verified', 'in_reply_to_user.id', 'in_reply_to_user.created_at', 'in_reply_to_user.username', 'in_reply_to_user.name', 'in_reply_to_user.location', 'Unnamed: 93'], axis=1)"
   ]
  },
  {
   "cell_type": "code",
   "execution_count": null,
   "metadata": {},
   "outputs": [],
   "source": [
    "#delete duplicates if there are two rows with the same id\n",
    "file = file.drop_duplicates(subset=['id'], keep='first')\n",
    "file = file.reset_index(drop=True)"
   ]
  },
  {
   "cell_type": "code",
   "execution_count": null,
   "metadata": {},
   "outputs": [],
   "source": [
    "#select the rows with into the text column there are #bitcoin #luna #terra\n",
    "file = file[file['text'].str.contains('#lunaterra|#luna|#terra|#bitcoin|#blockchain|#crypto|#Crypto|#cryptocurre|#criptonews|#terraUSD|bitcoin|blockchain|crypto|cryptocurre|#stablecoin|stablecoin Terra', na=False, case=False)]\n",
    "file = file.reset_index(drop=True)"
   ]
  },
  {
   "cell_type": "code",
   "execution_count": null,
   "metadata": {},
   "outputs": [],
   "source": [
    "#save file to csv\n",
    "file.to_csv('dataset/dataset.csv', index=False)"
   ]
  }
 ],
 "metadata": {
  "kernelspec": {
   "display_name": "Python 3",
   "language": "python",
   "name": "python3"
  },
  "language_info": {
   "codemirror_mode": {
    "name": "ipython",
    "version": 3
   },
   "file_extension": ".py",
   "mimetype": "text/x-python",
   "name": "python",
   "nbconvert_exporter": "python",
   "pygments_lexer": "ipython3",
   "version": "3.9.12"
  },
  "orig_nbformat": 4
 },
 "nbformat": 4,
 "nbformat_minor": 2
}
